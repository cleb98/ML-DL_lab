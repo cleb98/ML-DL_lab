{
  "nbformat": 4,
  "nbformat_minor": 0,
  "metadata": {
    "colab": {
      "provenance": []
    },
    "kernelspec": {
      "name": "python3",
      "display_name": "Python 3"
    }
  },
  "cells": [
    {
      "cell_type": "code",
      "metadata": {
        "id": "p8gpcHDFAGI_"
      },
      "source": [
        "import torch\n",
        "torch.cuda.is_available()"
      ],
      "execution_count": null,
      "outputs": []
    },
    {
      "cell_type": "code",
      "metadata": {
        "id": "kZUoreevUxHu"
      },
      "source": [
        "import numpy as np\n",
        "from matplotlib import pyplot as plt\n",
        "from torchvision import transforms\n",
        "from torch.utils.data import DataLoader\n",
        "from torch.utils.data import Dataset\n",
        "from torchvision.datasets import MNIST\n"
      ],
      "execution_count": null,
      "outputs": []
    },
    {
      "cell_type": "code",
      "metadata": {
        "id": "jRayIQQ9g5GR"
      },
      "source": [
        "BATCH_SIZE = 128\n",
        "\n",
        "transform = transforms.Compose([\n",
        "      transforms.ToTensor(), # first, convert image to PyTorch tensor\n",
        "      transforms.Normalize((0.1307,), (0.3081,)) # normalize inputs\n",
        "    ])\n",
        "\n",
        "mnist_train = MNIST('data',train=True,transform=transform, download=True)\n",
        "mnist_test = MNIST('data',train=False,transform=transform, download=True)\n",
        "\n",
        "dl_train = DataLoader(dataset=mnist_train, batch_size=BATCH_SIZE, \n",
        "                      num_workers=0, drop_last=True, shuffle=True)\n",
        "dl_test = DataLoader(dataset=mnist_test, batch_size=BATCH_SIZE, \n",
        "                     num_workers=0, drop_last=False, shuffle=False)"
      ],
      "execution_count": null,
      "outputs": []
    },
    {
      "cell_type": "code",
      "metadata": {
        "id": "dtgmXZf258HU"
      },
      "source": [
        "idx = np.random.choice(np.arange(0, len(mnist_train)))\n",
        "img = mnist_train.data[idx]\n",
        "img = np.reshape(img, (28, 28))\n",
        "\n",
        "fig = plt.figure(figsize = (12,12)) \n",
        "ax = fig.add_subplot(111)\n",
        "ax.imshow(img, cmap='gray')\n",
        "width, height = img.shape\n",
        "thresh = img.max()/2.5\n",
        "for x in range(width):\n",
        "    for y in range(height):\n",
        "        val = int(img[x][y]) if img[x][y] !=0 else 0\n",
        "        ax.annotate(str(val), xy=(y,x),\n",
        "                    horizontalalignment='center',\n",
        "                    verticalalignment='center',\n",
        "                    color='white' if img[x][y]<thresh else 'black')"
      ],
      "execution_count": null,
      "outputs": []
    },
    {
      "cell_type": "code",
      "metadata": {
        "id": "MmfFS9yaU0xd"
      },
      "source": [
        "num_row, num_col = 1, 10\n",
        "f,subplots = plt.subplots(num_row, num_col, sharex='col', sharey='row')\n",
        "\n",
        "for i in range(num_col):\n",
        "    X, y = iter(dl_train).next()\n",
        "    X_img = X[y == i]\n",
        "    idx = np.random.choice(np.arange(0, X_img.shape[0]))\n",
        "    \n",
        "    X_img = X_img[idx]\n",
        "    X_img = X_img.detach().cpu().numpy()\n",
        "    X_img = X_img.squeeze()\n",
        "    \n",
        "    subplots[i].imshow(X_img, cmap='gray',\n",
        "                       interpolation='nearest', \n",
        "                       aspect='auto')\n",
        "    subplots[i].set_title(f'Digit {i}', fontweight=\"bold\")\n",
        "    subplots[i].grid(b=False)\n",
        "    subplots[i].axis('off')\n",
        "\n",
        "f.set_size_inches(22.5, 4.5)"
      ],
      "execution_count": null,
      "outputs": []
    },
    {
      "cell_type": "code",
      "metadata": {
        "id": "11tBtoB5Jmx0"
      },
      "source": [
        "import torch \n",
        "\n",
        "num_epochs    = 10\n",
        "num_fin       = 784\n",
        "num_classes   = 10\n",
        "num_hidden    = 128\n",
        "learning_rate = 0.01\n",
        "device = torch.device(\"cuda:0\" if torch.cuda.is_available() else \"cpu\")"
      ],
      "execution_count": null,
      "outputs": []
    },
    {
      "cell_type": "code",
      "metadata": {
        "id": "i9z4Ha24U5tt"
      },
      "source": [
        "import torch\n",
        "import torch.nn as nn\n",
        "from torch.optim import SGD\n",
        "\n",
        "\"\"\"\n",
        "    Write HERE your multi layer perceptron (MLP), with one hidden layer \n",
        "    characterised by num_hidden neurons, activated by one OF the following\n",
        "    activation functions: sigmoid, relu, leaky_relu (see the torch.nn package\n",
        "    for details about act. functions)\n",
        "\n",
        "    Here a list of functions that you may use: \n",
        "      - nn.Sequential\n",
        "      - nn.Linear\n",
        "      - nn.Sigmoid\n",
        "      - nn.ReLU\n",
        "      - torch.argmax\n",
        "      - optim.SGD, optim.Adam\n",
        "      - nn.CrossEntropyLoss\n",
        "      \n",
        "    OPTIONALLY: \n",
        "    i) Add more than just one hidden layer. \n",
        "    ii) Put dropout and batch normalization layers to respectively improve\n",
        "    the generalization capabilities and speedup training procedure.\n",
        "\"\"\"\n",
        "\n",
        "class MLP(nn.Module):\n",
        "  \n",
        "  def __init__(self, num_fin: int, num_hidden: int, num_classes: int):\n",
        "    super(MLP, self).__init__()\n",
        "\n",
        "    self.num_fin = num_fin\n",
        "    self.num_hidden = num_hidden\n",
        "    self.num_classes = num_classes\n",
        "\n",
        "    \"\"\"\n",
        "    Define MLP building blocks here.\n",
        "    \"\"\"\n",
        "  \n",
        "  def forward(self, x: torch.Tensor):\n",
        "    B = X.shape[0]\n",
        "    \n",
        "    \"\"\"\n",
        "    x: input grayscale images (28x28) -> shape (B, 1, 28, 28)\n",
        "    y: output predictions -> shape (B, self.num_classes)\n",
        "    \"\"\"\n",
        "\n",
        "    # This will collapse our images into 784-dimensional vectors \n",
        "    x = x.view(B, -1)\n",
        "\n",
        "    \"\"\"\n",
        "    Define here the MLP forward pass. \n",
        "    \"\"\"\n",
        "    \n",
        "    y_pred = torch.rand((B, self.num_classes))\n",
        "    \n",
        "    return y_pred\n",
        "\n",
        "def eval_acc(mlp: nn.Module, data_loader: torch.utils.data.DataLoader, \n",
        "             device: torch.device):\n",
        "  \n",
        "  correct = 0\n",
        "  total = 0\n",
        "  \n",
        "  with torch.no_grad():\n",
        "    for x, y in data_loader:\n",
        "      x, y = x.to(device), y.to(device)\n",
        "      y_pred = model(x)\n",
        "      \n",
        "      \"\"\"\n",
        "      Given y_pred (predictions) and y (groundtruth labels), acc\n",
        "      should contain the number of right predictions.\n",
        "      \"\"\"\n",
        "      acc = 0\n",
        "      \n",
        "      correct += acc\n",
        "      total += y_pred.size(0)\n",
        "  \n",
        "  return correct/total"
      ],
      "execution_count": null,
      "outputs": []
    },
    {
      "cell_type": "code",
      "metadata": {
        "id": "O_9ekrhhkSx_"
      },
      "source": [
        "\"\"\"\n",
        "Define here the major components of the training algorithm. \n",
        "\"\"\"\n",
        "model     = None\n",
        "loss_fun  = None\n",
        "acc       = None\n",
        "opt       = None\n",
        "\n",
        "try:\n",
        "  \n",
        "    for i in range(num_epochs):\n",
        "      \n",
        "      # Compute and print the accuracy, both on the training and the test set. \n",
        "      print(f\"Epoch {i} train acc.: {eval_acc(model, dl_train, device):.3f} \"\n",
        "                        f\"test acc.: {eval_acc(model, dl_test, device):.3f}\")\n",
        "      \n",
        "      \"\"\"\n",
        "      Write HERE your code\n",
        "      For each batch in the training set:\n",
        "           -> Clear the gradients of all optimized variables\n",
        "           -> Load the batch into the device.\n",
        "           -> Forward pass: compute the predicted outputs by passing \n",
        "              inputs to the model\n",
        "           -> Given the predictions, compute the loss function. \n",
        "           -> Backward pass: compute gradient of the loss with respect \n",
        "              to model parameters\n",
        "           -> Make an optimization step. \n",
        "      \"\"\"\n",
        "\n",
        "      \n",
        "except KeyboardInterrupt:\n",
        "    pass"
      ],
      "execution_count": null,
      "outputs": []
    },
    {
      "cell_type": "code",
      "metadata": {
        "id": "ncaA8MchU9Ml"
      },
      "source": [
        "num_row, num_col = 2, 6\n",
        "f,subplots = plt.subplots(num_row, num_col, sharex='col', sharey='row')\n",
        "\n",
        "X_batch, Y_batch = next(iter(dl_test))\n",
        "X_batch, Y_batch = X_batch.to(device), Y_batch.to(device)\n",
        "\n",
        "with torch.no_grad():\n",
        "  Y_batch_pred = model(X_batch)\n",
        "\n",
        "for i in range(num_row):\n",
        "    for j in range(num_col):\n",
        "      \n",
        "        idx = np.random.choice(np.arange(0, X_batch.shape[0]))\n",
        "        \n",
        "        img = X_batch[idx].detach().cpu().numpy()\n",
        "        \n",
        "        target, pred = Y_batch[idx], Y_batch_pred[idx]\n",
        "        target, pred = target.item(), torch.argmax(pred).item()\n",
        "        target, pred = int(target), int(pred)\n",
        "        is_correct = target == pred\n",
        "                  \n",
        "        subplots[i,j].imshow(img.squeeze(), cmap=\"gray\", interpolation='nearest', \n",
        "                             aspect=\"auto\")\n",
        "        \n",
        "        title = f\"GT: {target} \\n Pred: {pred}\"\n",
        "        color_title = 'green' if is_correct else 'red'\n",
        "        subplots[i,j].set_title(title, color=color_title, fontweight=\"bold\")\n",
        "        subplots[i,j].grid(b=False)\n",
        "\n",
        "f.set_size_inches(13.5, 7.5)"
      ],
      "execution_count": null,
      "outputs": []
    }
  ]
}