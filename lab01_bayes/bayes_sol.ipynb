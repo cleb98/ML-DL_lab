{
 "cells": [
  {
   "cell_type": "code",
   "execution_count": 1,
   "metadata": {
    "colab": {
     "base_uri": "https://localhost:8080/",
     "height": 34
    },
    "executionInfo": {
     "elapsed": 3913,
     "status": "ok",
     "timestamp": 1601567543524,
     "user": {
      "displayName": "ANGELO PORRELLO",
      "photoUrl": "",
      "userId": "16780345686501594040"
     },
     "user_tz": -120
    },
    "id": "l7JoXbPoXy_F",
    "outputId": "55de664c-11ce-415c-f653-045304d042d5"
   },
   "outputs": [
    {
     "name": "stdout",
     "output_type": "stream",
     "text": [
      "Requirement already satisfied: googledrivedownloader in c:\\users\\39379\\anaconda3\\envs\\ml_dl\\lib\\site-packages (0.4)\n",
      "Note: you may need to restart the kernel to use updated packages.\n"
     ]
    }
   ],
   "source": [
    "pip install googledrivedownloader"
   ]
  },
  {
   "cell_type": "code",
   "execution_count": 2,
   "metadata": {
    "ExecuteTime": {
     "end_time": "2021-09-30T09:50:35.525521Z",
     "start_time": "2021-09-30T09:50:33.826886Z"
    },
    "executionInfo": {
     "elapsed": 3904,
     "status": "ok",
     "timestamp": 1601567543528,
     "user": {
      "displayName": "ANGELO PORRELLO",
      "photoUrl": "",
      "userId": "16780345686501594040"
     },
     "user_tz": -120
    },
    "id": "fsYE8NBYW0nk"
   },
   "outputs": [],
   "source": [
    "import os\n",
    "import gzip\n",
    "import numpy as np\n",
    "import matplotlib.pyplot as plt\n",
    "from google_drive_downloader import GoogleDriveDownloader\n",
    "\n",
    "GoogleDriveDownloader.download_file_from_google_drive(file_id='1uO4qERMqkYgJZCbzqmN-xaEwC64a-4nd',\n",
    "                                                      dest_path='./mnist/mnist_mnist.zip',\n",
    "                                                      unzip=True)\n",
    "\n",
    "def load_mnist_digits():\n",
    "    \"\"\"\n",
    "    Loads mnist (original, with digits).\n",
    "    \n",
    "    Returns\n",
    "    -------\n",
    "    tuple:\n",
    "        x_train with shape(n_train_samples, h, w)\n",
    "        y_train with shape(n_train_samples,)\n",
    "        x_test with shape(n_test_samples, h, w)\n",
    "        y_test with shape(n_test_samples,)\n",
    "    \"\"\"\n",
    "\n",
    "    x_train = np.load('mnist/x_train.npy')\n",
    "    y_train = np.load('mnist/y_train.npy')\n",
    "\n",
    "    x_test = np.load('mnist/x_test.npy')\n",
    "    y_test = np.load('mnist/y_test.npy')\n",
    "\n",
    "    label_dict = {i: str(i) for i in range(0, 10)}\n",
    "\n",
    "    return x_train, y_train, x_test, y_test, label_dict\n",
    "\n",
    "\n",
    "def load_mnist(threshold=0.5):\n",
    "    \"\"\"\n",
    "    Loads MNIST data (either digits or fashion) and returns it binarized.\n",
    "    \n",
    "    Parameters\n",
    "    ----------\n",
    "    threshold: float\n",
    "        a threshold in [0, 1] to binarize w.r.t.\n",
    "\n",
    "    Returns\n",
    "    -------\n",
    "    tuple:\n",
    "        x_train with shape(n_train_samples, h, w)\n",
    "        y_train with shape(n_train_samples,)\n",
    "        x_test with shape(n_test_samples, h, w)\n",
    "        y_test with shape(n_test_samples,)\n",
    "    \"\"\"\n",
    "\n",
    "    x_train, y_train, x_test, y_test, label_dict = load_mnist_digits()\n",
    "\n",
    "    x_train = np.float32(x_train) / 255.\n",
    "    x_train[x_train >= threshold] = 1\n",
    "    x_train[x_train < threshold] = 0\n",
    "\n",
    "    x_test = np.float32(x_test) / 255.\n",
    "    x_test[x_test >= threshold] = 1\n",
    "    x_test[x_test < threshold] = 0\n",
    "\n",
    "    return x_train, y_train, x_test, y_test, label_dict"
   ]
  },
  {
   "cell_type": "code",
   "execution_count": 5,
   "metadata": {
    "executionInfo": {
     "elapsed": 3903,
     "status": "ok",
     "timestamp": 1601567543530,
     "user": {
      "displayName": "ANGELO PORRELLO",
      "photoUrl": "",
      "userId": "16780345686501594040"
     },
     "user_tz": -120
    },
    "id": "ua32NN0TYHga"
   },
   "outputs": [],
   "source": [
    "\"\"\"\n",
    "Class that models a Naive Bayes Classifier\n",
    "\"\"\"\n",
    "\n",
    "import numpy as np\n",
    "\n",
    "class NaiveBayesClassifier:\n",
    "    \"\"\"\n",
    "    Naive Bayes Classifier.\n",
    "    Training:\n",
    "    For each class, a naive likelyhood model is estimated for P(X/Y),\n",
    "    and the prior probability P(Y) is computed.\n",
    "    Inference:\n",
    "    performed according with the Bayes rule:\n",
    "    P = argmax_Y (P(X/Y) * P(Y))\n",
    "    or\n",
    "    P = argmax_Y (log(P(X/Y)) + log(P(Y)))\n",
    "    \"\"\"\n",
    "\n",
    "    def __init__(self):\n",
    "        \"\"\"\n",
    "        Class constructor\n",
    "        \"\"\"\n",
    "\n",
    "        self._classes = None\n",
    "        self._n_classes = 0\n",
    "\n",
    "        self._eps = np.finfo(np.float32).eps\n",
    "\n",
    "        # array of classes prior probabilities\n",
    "        self._class_priors = []\n",
    "\n",
    "        # array of probabilities of a pixel being active (for each class)\n",
    "        self._pixel_probs_given_class = []\n",
    "\n",
    "    def fit(self, X, Y):\n",
    "        \"\"\"\n",
    "        Computes, for each class, a naive likelyhood model (self._pixel_probs_given_class),\n",
    "        and a prior probability (self.class_priors).\n",
    "        Both quantities are estimated from examples X and Y.\n",
    "\n",
    "        Parameters\n",
    "        ----------\n",
    "        X: np.array\n",
    "            input MNIST digits. Has shape (n_train_samples, h, w)\n",
    "        Y: np.array\n",
    "            labels for MNIST digits. Has shape (n_train_samples,)\n",
    "        \"\"\"\n",
    "        yclass, counts = np.unique(Y, return_counts=True)\n",
    "\n",
    "        self._classes = yclass\n",
    "        self._n_classes = len(yclass)\n",
    "        self._class_priors = counts / X.shape[0]\n",
    "\n",
    "        for i in range(self._n_classes):\n",
    "            pixel_prob_given_i = np.mean(X[Y == i], axis=0)\n",
    "            self._pixel_probs_given_class.append(pixel_prob_given_i)\n",
    "\n",
    "    def predict(self, X, return_pred: bool = False):\n",
    "        \"\"\"\n",
    "        Performs inference on test data.\n",
    "        Inference is performed according with the Bayes rule:\n",
    "        P = argmax_Y (log(P(X/Y)) + log(P(Y)) - log(P(X)))\n",
    "\n",
    "        Parameters\n",
    "        ----------\n",
    "        X: np.array\n",
    "            MNIST test images. Has shape (n_test_samples, h, w).\n",
    "\n",
    "        Returns\n",
    "        -------\n",
    "        prediction: np.array\n",
    "            model predictions over X. Has shape (n_test_samples,)\n",
    "        \"\"\"\n",
    "\n",
    "        n_test_images = X.shape[0]\n",
    "\n",
    "        X = X.reshape((n_test_images, -1))\n",
    "        results = np.zeros((n_test_images, self._n_classes))\n",
    "\n",
    "        for i in range(self._n_classes):\n",
    "            # compute log P(X|y=i)\n",
    "            model_of_i = self._pixel_probs_given_class[i]\n",
    "            model_of_i = model_of_i.reshape((1, model_of_i.shape[0] * model_of_i.shape[1]))\n",
    "\n",
    "            mask_one = X == 1.0\n",
    "            mask_zero = X == 0.0\n",
    "\n",
    "            probs = mask_one * model_of_i + mask_zero * (1. - model_of_i)\n",
    "            probs = np.log(probs + self._eps)\n",
    "            probs = np.sum(probs, axis=1)\n",
    "\n",
    "            probs += np.log(self._class_priors[i])\n",
    "            results[:, i] = probs\n",
    "\n",
    "        if not return_pred:\n",
    "            return np.argmax(results, axis=1)\n",
    "        return np.argmax(results, axis=1), results\n"
   ]
  },
  {
   "cell_type": "code",
   "execution_count": 6,
   "metadata": {
    "colab": {
     "base_uri": "https://localhost:8080/",
     "height": 187
    },
    "executionInfo": {
     "elapsed": 6150,
     "status": "ok",
     "timestamp": 1601567545788,
     "user": {
      "displayName": "ANGELO PORRELLO",
      "photoUrl": "",
      "userId": "16780345686501594040"
     },
     "user_tz": -120
    },
    "id": "Fa15Lpq2as0A",
    "outputId": "2fa4ea59-e4f1-4c2d-80c0-45b0f8add899"
   },
   "outputs": [
    {
     "name": "stdout",
     "output_type": "stream",
     "text": [
      "Training set -> number of examples: 60000\n",
      "Test set -> number of examples: 10000\n",
      "------------------------------\n",
      "X -> shape: (60000, 28, 28)\n",
      "X -> dtype: float32\n",
      "X -> min: 0.0\n",
      "X -> max: 1.0\n",
      "X -> values: [0. 1.]\n",
      "------------------------------\n",
      "Classes: [0 1 2 3 4 5 6 7 8 9]\n"
     ]
    }
   ],
   "source": [
    "import numpy as np\n",
    "import matplotlib.pyplot as plt\n",
    "\n",
    "x_train, y_train, x_test, y_test, label_dict = load_mnist(threshold=0.5)\n",
    "\n",
    "print(f\"Training set -> number of examples: {len(x_train)}\")\n",
    "print(f\"Test set -> number of examples: {len(x_test)}\")\n",
    "print('-'*30)\n",
    "print(f'X -> shape: {x_train.shape}')\n",
    "print(f\"X -> dtype: {x_train.dtype}\")\n",
    "print(f\"X -> min: {x_train.min()}\")\n",
    "print(f\"X -> max: {x_train.max()}\")\n",
    "print(f\"X -> values: {np.unique(x_train)}\")\n",
    "print('-'*30)\n",
    "print(f\"Classes: {(np.unique(y_train))}\")\n"
   ]
  },
  {
   "cell_type": "code",
   "execution_count": 7,
   "metadata": {
    "colab": {
     "base_uri": "https://localhost:8080/",
     "height": 292
    },
    "executionInfo": {
     "elapsed": 1693,
     "status": "ok",
     "timestamp": 1601567560627,
     "user": {
      "displayName": "ANGELO PORRELLO",
      "photoUrl": "",
      "userId": "16780345686501594040"
     },
     "user_tz": -120
    },
    "id": "2fu6xDJRbyff",
    "outputId": "fc0fb89f-796b-4216-8433-d970ad879dcf"
   },
   "outputs": [
    {
     "name": "stderr",
     "output_type": "stream",
     "text": [
      "C:\\Users\\39379\\AppData\\Local\\Temp\\ipykernel_21308\\1022416073.py:12: MatplotlibDeprecationWarning: The 'b' parameter of grid() has been renamed 'visible' since Matplotlib 3.5; support for the old name will be dropped two minor releases later.\n",
      "  subplots[cls].grid(b=False)\n"
     ]
    },
    {
     "data": {
      "image/png": "[encoded data removed]",
      "text/plain": [
       "<Figure size 2250x450 with 10 Axes>"
      ]
     },
     "metadata": {},
     "output_type": "display_data"
    }
   ],
   "source": [
    "num_row, num_col = 1, 10\n",
    "len_tr = len(x_train)\n",
    "f, subplots = plt.subplots(num_row, num_col, sharex='col', sharey='row')\n",
    "\n",
    "for cls in np.unique(y_train):\n",
    "    idx = np.arange(len_tr)[y_train == cls]\n",
    "    idx = np.random.choice(idx)\n",
    "    X_img = x_train[idx]\n",
    "    subplots[cls].imshow(X_img, cmap='gray',\n",
    "                       interpolation='nearest', aspect='auto')\n",
    "    subplots[cls].set_title(f'Digit {cls}', fontweight=\"bold\")\n",
    "    subplots[cls].grid(b=False)\n",
    "    subplots[cls].axis('off')\n",
    "\n",
    "f.set_size_inches(22.5, 4.5)"
   ]
  },
  {
   "cell_type": "markdown",
   "metadata": {
    "id": "-0veJlp2fNEI"
   },
   "source": [
    "**Step 1: training the Naive Bayes classifier on the training set.**"
   ]
  },
  {
   "cell_type": "code",
   "execution_count": 8,
   "metadata": {
    "executionInfo": {
     "elapsed": 705,
     "status": "ok",
     "timestamp": 1601567581524,
     "user": {
      "displayName": "ANGELO PORRELLO",
      "photoUrl": "",
      "userId": "16780345686501594040"
     },
     "user_tz": -120
    },
    "id": "igAkkWhAfFEX"
   },
   "outputs": [],
   "source": [
    "# get the model\n",
    "nbc = NaiveBayesClassifier()\n",
    "\n",
    "# train\n",
    "nbc.fit(x_train, y_train)"
   ]
  },
  {
   "cell_type": "markdown",
   "metadata": {
    "id": "v1aGqvp4fpDB"
   },
   "source": [
    "**Step 2: evaluating the performance of the classifier on a set of unseen data (test set).**"
   ]
  },
  {
   "cell_type": "code",
   "execution_count": 9,
   "metadata": {
    "colab": {
     "base_uri": "https://localhost:8080/",
     "height": 328
    },
    "executionInfo": {
     "elapsed": 4972,
     "status": "ok",
     "timestamp": 1601567603631,
     "user": {
      "displayName": "ANGELO PORRELLO",
      "photoUrl": "",
      "userId": "16780345686501594040"
     },
     "user_tz": -120
    },
    "id": "RVcK2ezWfIkX",
    "outputId": "96ffb077-a536-4dc7-b851-7efc098ba2be"
   },
   "outputs": [
    {
     "name": "stdout",
     "output_type": "stream",
     "text": [
      "Accuracy: 0.8442\n"
     ]
    },
    {
     "data": {
      "image/png": "[encoded data removed]",
      "text/plain": [
       "<Figure size 640x480 with 2 Axes>"
      ]
     },
     "metadata": {},
     "output_type": "display_data"
    }
   ],
   "source": [
    "import itertools \n",
    "\n",
    "def plot_confusion_matrix(targets, predictions, classes,\n",
    "                          normalize=True,\n",
    "                          title='Confusion matrix',\n",
    "                          cmap=plt.cm.Blues):\n",
    "    \"\"\"\n",
    "    This function prints and plots the confusion matrix.\n",
    "    Normalization can be applied by setting `normalize=True`.\n",
    "    \"\"\"\n",
    "    n_classes, = np.unique(targets).shape\n",
    "\n",
    "    cm = np.zeros(shape=(n_classes, n_classes), dtype=np.float32)\n",
    "    for t, p in zip(targets, predictions):\n",
    "        cm[int(t), int(p)] += 1\n",
    "\n",
    "    if normalize:\n",
    "        cm /= cm.sum(axis=1)\n",
    "\n",
    "    plt.imshow(cm, interpolation='nearest', cmap=cmap)\n",
    "    plt.title(title)\n",
    "    plt.colorbar()\n",
    "    tick_marks = np.arange(len(classes))\n",
    "    plt.xticks(tick_marks, classes, rotation=45)\n",
    "    plt.yticks(tick_marks, classes)\n",
    "\n",
    "    fmt = '.2f'\n",
    "    thresh = cm.max() / 2.\n",
    "    for i, j in itertools.product(range(cm.shape[0]), range(cm.shape[1])):\n",
    "        plt.text(j, i, format(cm[i, j], fmt),\n",
    "                 horizontalalignment=\"center\",\n",
    "                 color=\"white\" if cm[i, j] > thresh else \"black\")\n",
    "\n",
    "    plt.tight_layout()\n",
    "    plt.ylabel('True label')\n",
    "    plt.xlabel('Predicted label')\n",
    "    \n",
    "# test\n",
    "predictions = nbc.predict(x_test.reshape((len(x_test), -1)))\n",
    "\n",
    "# evaluate performances\n",
    "accuracy = np.sum(np.uint8(predictions == y_test)) / len(y_test)\n",
    "print('Accuracy: {}'.format(accuracy))\n",
    "\n",
    "# show confusion matrix\n",
    "plot_confusion_matrix(targets=y_test,\n",
    "                      predictions=predictions,\n",
    "                      classes=[label_dict[l] for l in label_dict])"
   ]
  },
  {
   "cell_type": "code",
   "execution_count": 22,
   "metadata": {
    "colab": {
     "base_uri": "https://localhost:8080/",
     "height": 298
    },
    "executionInfo": {
     "elapsed": 628,
     "status": "ok",
     "timestamp": 1601567622848,
     "user": {
      "displayName": "ANGELO PORRELLO",
      "photoUrl": "",
      "userId": "16780345686501594040"
     },
     "user_tz": -120
    },
    "id": "mXYFDINAYLpi",
    "outputId": "6c4e7e95-60a3-4ddb-9474-16d015aebea9"
   },
   "outputs": [
    {
     "data": {
      "text/plain": [
       "Text(0.5, 1.0, 'Target: 4, Prediction: 4')"
      ]
     },
     "execution_count": 22,
     "metadata": {},
     "output_type": "execute_result"
    },
    {
     "data": {
      "image/png": "[encoded data removed]",
      "text/plain": [
       "<Figure size 640x480 with 1 Axes>"
      ]
     },
     "metadata": {},
     "output_type": "display_data"
    }
   ],
   "source": [
    "idx = np.random.randint(0, x_test.shape[0])\n",
    "\n",
    "x = x_test[idx]\n",
    "p = predictions[idx]\n",
    "y = y_test[idx]\n",
    "\n",
    "plt.imshow(x, cmap='gray')\n",
    "plt.title('Target: {}, Prediction: {}'.format(label_dict[int(y)], label_dict[int(p)]))"
   ]
  },
  {
   "cell_type": "code",
   "execution_count": 24,
   "metadata": {
    "executionInfo": {
     "elapsed": 619,
     "status": "ok",
     "timestamp": 1601567647357,
     "user": {
      "displayName": "ANGELO PORRELLO",
      "photoUrl": "",
      "userId": "16780345686501594040"
     },
     "user_tz": -120
    },
    "id": "3iigFMnshb3u"
   },
   "outputs": [
    {
     "ename": "ModuleNotFoundError",
     "evalue": "No module named 'termios'",
     "output_type": "error",
     "traceback": [
      "\u001b[1;31m---------------------------------------------------------------------------\u001b[0m",
      "\u001b[1;31mModuleNotFoundError\u001b[0m                       Traceback (most recent call last)",
      "Input \u001b[1;32mIn [24]\u001b[0m, in \u001b[0;36m<cell line: 2>\u001b[1;34m()\u001b[0m\n\u001b[0;32m      1\u001b[0m \u001b[38;5;28;01mfrom\u001b[39;00m \u001b[38;5;21;01mIPython\u001b[39;00m\u001b[38;5;21;01m.\u001b[39;00m\u001b[38;5;21;01mdisplay\u001b[39;00m \u001b[38;5;28;01mimport\u001b[39;00m HTML, Image\n\u001b[1;32m----> 2\u001b[0m \u001b[38;5;28;01mfrom\u001b[39;00m \u001b[38;5;21;01mgoogle\u001b[39;00m\u001b[38;5;21;01m.\u001b[39;00m\u001b[38;5;21;01mcolab\u001b[39;00m\u001b[38;5;21;01m.\u001b[39;00m\u001b[38;5;21;01moutput\u001b[39;00m \u001b[38;5;28;01mimport\u001b[39;00m eval_js\n\u001b[0;32m      3\u001b[0m \u001b[38;5;28;01mfrom\u001b[39;00m \u001b[38;5;21;01mbase64\u001b[39;00m \u001b[38;5;28;01mimport\u001b[39;00m b64decode\n\u001b[0;32m      4\u001b[0m \u001b[38;5;28;01mimport\u001b[39;00m \u001b[38;5;21;01mio\u001b[39;00m\n",
      "File \u001b[1;32m~\\anaconda3\\envs\\ML_DL\\lib\\site-packages\\google\\colab\\__init__.py:23\u001b[0m, in \u001b[0;36m<module>\u001b[1;34m\u001b[0m\n\u001b[0;32m     21\u001b[0m \u001b[38;5;28;01mfrom\u001b[39;00m \u001b[38;5;21;01mgoogle\u001b[39;00m\u001b[38;5;21;01m.\u001b[39;00m\u001b[38;5;21;01mcolab\u001b[39;00m \u001b[38;5;28;01mimport\u001b[39;00m _installation_commands\n\u001b[0;32m     22\u001b[0m \u001b[38;5;28;01mfrom\u001b[39;00m \u001b[38;5;21;01mgoogle\u001b[39;00m\u001b[38;5;21;01m.\u001b[39;00m\u001b[38;5;21;01mcolab\u001b[39;00m \u001b[38;5;28;01mimport\u001b[39;00m _shell_customizations\n\u001b[1;32m---> 23\u001b[0m \u001b[38;5;28;01mfrom\u001b[39;00m \u001b[38;5;21;01mgoogle\u001b[39;00m\u001b[38;5;21;01m.\u001b[39;00m\u001b[38;5;21;01mcolab\u001b[39;00m \u001b[38;5;28;01mimport\u001b[39;00m _system_commands\n\u001b[0;32m     24\u001b[0m \u001b[38;5;28;01mfrom\u001b[39;00m \u001b[38;5;21;01mgoogle\u001b[39;00m\u001b[38;5;21;01m.\u001b[39;00m\u001b[38;5;21;01mcolab\u001b[39;00m \u001b[38;5;28;01mimport\u001b[39;00m _tensorflow_magics\n\u001b[0;32m     25\u001b[0m \u001b[38;5;28;01mfrom\u001b[39;00m \u001b[38;5;21;01mgoogle\u001b[39;00m\u001b[38;5;21;01m.\u001b[39;00m\u001b[38;5;21;01mcolab\u001b[39;00m \u001b[38;5;28;01mimport\u001b[39;00m auth\n",
      "File \u001b[1;32m~\\anaconda3\\envs\\ML_DL\\lib\\site-packages\\google\\colab\\_system_commands.py:24\u001b[0m, in \u001b[0;36m<module>\u001b[1;34m\u001b[0m\n\u001b[0;32m     22\u001b[0m \u001b[38;5;28;01mimport\u001b[39;00m \u001b[38;5;21;01mlocale\u001b[39;00m\n\u001b[0;32m     23\u001b[0m \u001b[38;5;28;01mimport\u001b[39;00m \u001b[38;5;21;01mos\u001b[39;00m\n\u001b[1;32m---> 24\u001b[0m \u001b[38;5;28;01mimport\u001b[39;00m \u001b[38;5;21;01mpty\u001b[39;00m\n\u001b[0;32m     25\u001b[0m \u001b[38;5;28;01mimport\u001b[39;00m \u001b[38;5;21;01mselect\u001b[39;00m\n\u001b[0;32m     26\u001b[0m \u001b[38;5;28;01mimport\u001b[39;00m \u001b[38;5;21;01msignal\u001b[39;00m\n",
      "File \u001b[1;32m~\\anaconda3\\envs\\ML_DL\\lib\\pty.py:12\u001b[0m, in \u001b[0;36m<module>\u001b[1;34m\u001b[0m\n\u001b[0;32m     10\u001b[0m \u001b[38;5;28;01mimport\u001b[39;00m \u001b[38;5;21;01mos\u001b[39;00m\n\u001b[0;32m     11\u001b[0m \u001b[38;5;28;01mimport\u001b[39;00m \u001b[38;5;21;01msys\u001b[39;00m\n\u001b[1;32m---> 12\u001b[0m \u001b[38;5;28;01mimport\u001b[39;00m \u001b[38;5;21;01mtty\u001b[39;00m\n\u001b[0;32m     14\u001b[0m __all__ \u001b[38;5;241m=\u001b[39m [\u001b[38;5;124m\"\u001b[39m\u001b[38;5;124mopenpty\u001b[39m\u001b[38;5;124m\"\u001b[39m,\u001b[38;5;124m\"\u001b[39m\u001b[38;5;124mfork\u001b[39m\u001b[38;5;124m\"\u001b[39m,\u001b[38;5;124m\"\u001b[39m\u001b[38;5;124mspawn\u001b[39m\u001b[38;5;124m\"\u001b[39m]\n\u001b[0;32m     16\u001b[0m STDIN_FILENO \u001b[38;5;241m=\u001b[39m \u001b[38;5;241m0\u001b[39m\n",
      "File \u001b[1;32m~\\anaconda3\\envs\\ML_DL\\lib\\tty.py:5\u001b[0m, in \u001b[0;36m<module>\u001b[1;34m\u001b[0m\n\u001b[0;32m      1\u001b[0m \u001b[38;5;124;03m\"\"\"Terminal utilities.\"\"\"\u001b[39;00m\n\u001b[0;32m      3\u001b[0m \u001b[38;5;66;03m# Author: Steen Lumholt.\u001b[39;00m\n\u001b[1;32m----> 5\u001b[0m \u001b[38;5;28;01mfrom\u001b[39;00m \u001b[38;5;21;01mtermios\u001b[39;00m \u001b[38;5;28;01mimport\u001b[39;00m \u001b[38;5;241m*\u001b[39m\n\u001b[0;32m      7\u001b[0m __all__ \u001b[38;5;241m=\u001b[39m [\u001b[38;5;124m\"\u001b[39m\u001b[38;5;124msetraw\u001b[39m\u001b[38;5;124m\"\u001b[39m, \u001b[38;5;124m\"\u001b[39m\u001b[38;5;124msetcbreak\u001b[39m\u001b[38;5;124m\"\u001b[39m]\n\u001b[0;32m      9\u001b[0m \u001b[38;5;66;03m# Indexes for termios list.\u001b[39;00m\n",
      "\u001b[1;31mModuleNotFoundError\u001b[0m: No module named 'termios'"
     ]
    }
   ],
   "source": [
    "from IPython.display import HTML, Image\n",
    "from google.colab.output import eval_js\n",
    "from base64 import b64decode\n",
    "import io\n",
    "from PIL import Image as PILimage\n",
    "\n",
    "canvas_html = \"\"\"\n",
    "<canvas width=256 height=256></canvas>\n",
    "<button>Finish</button>\n",
    "<script>\n",
    "var canvas = document.querySelector('canvas')\n",
    "var ctx = canvas.getContext('2d')\n",
    "ctx.strokeStyle = \"#FFFFFF\"\n",
    "ctx.fillStyle = \"#000000\";\n",
    "ctx.fillRect(0, 0, 256, 256)\n",
    "ctx.lineWidth = %d\n",
    "var button = document.querySelector('button')\n",
    "var mouse = {x: 0, y: 0}\n",
    "\n",
    "canvas.addEventListener('mousemove', function(e) {\n",
    "  mouse.x = e.pageX - this.offsetLeft\n",
    "  mouse.y = e.pageY - this.offsetTop\n",
    "})\n",
    "canvas.onmousedown = ()=>{\n",
    "  ctx.beginPath()\n",
    "  ctx.moveTo(mouse.x, mouse.y)\n",
    "  canvas.addEventListener('mousemove', onPaint)\n",
    "}\n",
    "canvas.onmouseup = ()=>{\n",
    "  canvas.removeEventListener('mousemove', onPaint)\n",
    "}\n",
    "var onPaint = ()=>{\n",
    "  ctx.lineTo(mouse.x, mouse.y)\n",
    "  ctx.stroke()\n",
    "}\n",
    "\n",
    "var data = new Promise(resolve=>{\n",
    "  button.onclick = ()=>{\n",
    "    resolve(canvas.toDataURL('image/png'))\n",
    "  }\n",
    "})\n",
    "</script>\n",
    "\"\"\"\n",
    "\n",
    "def draw(filename='drawing.png', line_width=5, centercrop=True):\n",
    "  display(HTML(canvas_html % (line_width, )))\n",
    "  data = eval_js(\"data\")\n",
    "  binary = b64decode(data.split(',')[1])\n",
    "  buf = io.BytesIO(binary)\n",
    "  img = PILimage.open(buf)\n",
    "  img = img.resize((28, 28), PILimage.BILINEAR)   \n",
    "  img = img.convert('LA')\n",
    "  img = np.array(img)[:, :, 0]\n",
    "  img = img > 75\n",
    "\n",
    "  coords = np.argwhere(img)\n",
    "  x_min, y_min = coords.min(axis=0)\n",
    "  x_max, y_max = coords.max(axis=0)\n",
    "  cropped = img[x_min:x_max+1, y_min:y_max+1]\n",
    "  \n",
    "  out_img = np.zeros((28,28))\n",
    "\n",
    "  delta_x, delta_y = (28 - cropped.shape[0]) // 2, (28 - cropped.shape[1]) // 2\n",
    "  out_img[delta_x:delta_x + cropped.shape[0], delta_y :delta_y + + cropped.shape[1]] = cropped\n",
    "\n",
    "  return out_img.astype(np.float32)"
   ]
  },
  {
   "cell_type": "code",
   "execution_count": 25,
   "metadata": {
    "colab": {
     "base_uri": "https://localhost:8080/",
     "height": 612
    },
    "executionInfo": {
     "elapsed": 4184,
     "status": "ok",
     "timestamp": 1601567684591,
     "user": {
      "displayName": "ANGELO PORRELLO",
      "photoUrl": "",
      "userId": "16780345686501594040"
     },
     "user_tz": -120
    },
    "id": "rGhCAuM1k5aR",
    "outputId": "18f7366d-01df-4f34-d865-09c5a6a5dd28"
   },
   "outputs": [
    {
     "ename": "NameError",
     "evalue": "name 'draw' is not defined",
     "output_type": "error",
     "traceback": [
      "\u001b[1;31m---------------------------------------------------------------------------\u001b[0m",
      "\u001b[1;31mNameError\u001b[0m                                 Traceback (most recent call last)",
      "Input \u001b[1;32mIn [25]\u001b[0m, in \u001b[0;36m<cell line: 1>\u001b[1;34m()\u001b[0m\n\u001b[1;32m----> 1\u001b[0m img \u001b[38;5;241m=\u001b[39m \u001b[43mdraw\u001b[49m(line_width\u001b[38;5;241m=\u001b[39m\u001b[38;5;241m10\u001b[39m)\n\u001b[0;32m      2\u001b[0m \u001b[38;5;28mprint\u001b[39m(img\u001b[38;5;241m.\u001b[39mshape, img\u001b[38;5;241m.\u001b[39mdtype, np\u001b[38;5;241m.\u001b[39munique(img))\n\u001b[0;32m      3\u001b[0m plt\u001b[38;5;241m.\u001b[39mimshow(img, cmap\u001b[38;5;241m=\u001b[39m\u001b[38;5;124m'\u001b[39m\u001b[38;5;124mGreys_r\u001b[39m\u001b[38;5;124m'\u001b[39m)\n",
      "\u001b[1;31mNameError\u001b[0m: name 'draw' is not defined"
     ]
    }
   ],
   "source": [
    "img = draw(line_width=10)\n",
    "print(img.shape, img.dtype, np.unique(img))\n",
    "plt.imshow(img, cmap='Greys_r')\n",
    "\n",
    "pred, negllk = nbc.predict(img.reshape(1, 28*28), True)\n",
    "classes_ord = np.arange(len(np.unique(y_test)))[np.argsort(negllk)]\n",
    "classes_ord = np.flip(classes_ord)\n",
    "print(f'Predicted - {pred}')\n",
    "print(f'Scores: {negllk}')\n",
    "print(f'Classes ordered by scores: {classes_ord}')"
   ]
  },
  {
   "cell_type": "code",
   "execution_count": null,
   "metadata": {
    "executionInfo": {
     "elapsed": 2509,
     "status": "aborted",
     "timestamp": 1601567583382,
     "user": {
      "displayName": "ANGELO PORRELLO",
      "photoUrl": "",
      "userId": "16780345686501594040"
     },
     "user_tz": -120
    },
    "id": "7GGqtBQUrYHN"
   },
   "outputs": [],
   "source": []
  }
 ],
 "metadata": {
  "colab": {
   "collapsed_sections": [],
   "name": "bayes_sol.ipynb",
   "provenance": []
  },
  "kernelspec": {
   "display_name": "Python 3.9.13 ('ML_DL')",
   "language": "python",
   "name": "python3"
  },
  "language_info": {
   "codemirror_mode": {
    "name": "ipython",
    "version": 3
   },
   "file_extension": ".py",
   "mimetype": "text/x-python",
   "name": "python",
   "nbconvert_exporter": "python",
   "pygments_lexer": "ipython3",
   "version": "3.9.13"
  },
  "toc": {
   "base_numbering": 1,
   "nav_menu": {},
   "number_sections": true,
   "sideBar": true,
   "skip_h1_title": false,
   "title_cell": "Table of Contents",
   "title_sidebar": "Contents",
   "toc_cell": false,
   "toc_position": {},
   "toc_section_display": true,
   "toc_window_display": false
  },
  "vscode": {
   "interpreter": {
    "hash": "e0ba2b941cd8127db2d455454948eb37968e2355bfe5198f19d734f70c12e0e0"
   }
  }
 },
 "nbformat": 4,
 "nbformat_minor": 1
}
